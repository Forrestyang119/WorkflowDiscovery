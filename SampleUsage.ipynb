{
 "cells": [
  {
   "cell_type": "markdown",
   "metadata": {},
   "source": [
    "# Workflow Discovery"
   ]
  },
  {
   "cell_type": "code",
   "execution_count": 1,
   "metadata": {},
   "outputs": [],
   "source": [
    "import workflowModel as workflow\n",
    "from IPython.display import IFrame"
   ]
  },
  {
   "cell_type": "code",
   "execution_count": 2,
   "metadata": {},
   "outputs": [
    {
     "name": "stdout",
     "output_type": "stream",
     "text": [
      "{'length': 167.0, 'sum_pair': 5226235.0}\n",
      "INITIALIZATION\n",
      "{'length': 167.0, 'sum_pair': 5226235.0}\n",
      "ITERATION 1\n",
      "{'length': 148.0, 'sum_pair': 5210083.0}\n",
      "ITERATION 2\n",
      "{'length': 148.0, 'sum_pair': 5209907.0}\n",
      "ITERATION 3\n",
      "{'length': 148.0, 'sum_pair': 5209899.0}\n",
      "ITERATION 4\n",
      "{'length': 148.0, 'sum_pair': 5209899.0}\n",
      "ITERATION 5\n",
      "{'length': 152.0, 'sum_pair': 5205719.0}\n",
      "ITERATION 6\n",
      "{'length': 139.0, 'sum_pair': 5198171.0}\n",
      "ITERATION 7\n",
      "{'length': 140.0, 'sum_pair': 5198065.0}\n",
      "ITERATION 8\n",
      "{'length': 140.0, 'sum_pair': 5198065.0}\n"
     ]
    }
   ],
   "source": [
    "threshold = 0.5\n",
    "span = \"max\"\n",
    "workflow.model(\"Synthetic_activityTraces_1000.csv\", threshold, span)"
   ]
  },
  {
   "cell_type": "code",
   "execution_count": 3,
   "metadata": {},
   "outputs": [
    {
     "data": {
      "text/html": [
       "\n",
       "        <iframe\n",
       "            width=\"600\"\n",
       "            height=\"700\"\n",
       "            src=\"img/workflow_0.5.pdf\"\n",
       "            frameborder=\"0\"\n",
       "            allowfullscreen\n",
       "        ></iframe>\n",
       "        "
      ],
      "text/plain": [
       "<IPython.lib.display.IFrame at 0x111c21710>"
      ]
     },
     "execution_count": 3,
     "metadata": {},
     "output_type": "execute_result"
    }
   ],
   "source": [
    "IFrame(\"img/workflow_\" + str(threshold) + \".pdf\", width=600, height=700)"
   ]
  },
  {
   "cell_type": "code",
   "execution_count": null,
   "metadata": {},
   "outputs": [],
   "source": []
  },
  {
   "cell_type": "code",
   "execution_count": null,
   "metadata": {},
   "outputs": [],
   "source": []
  }
 ],
 "metadata": {
  "kernelspec": {
   "display_name": "Python 3",
   "language": "python",
   "name": "python3"
  },
  "language_info": {
   "codemirror_mode": {
    "name": "ipython",
    "version": 3
   },
   "file_extension": ".py",
   "mimetype": "text/x-python",
   "name": "python",
   "nbconvert_exporter": "python",
   "pygments_lexer": "ipython3",
   "version": "3.6.4"
  }
 },
 "nbformat": 4,
 "nbformat_minor": 2
}
